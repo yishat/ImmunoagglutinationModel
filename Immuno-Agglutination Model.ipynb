{
 "cells": [
  {
   "cell_type": "markdown",
   "id": "0acf0a64-b62f-419b-a49b-e882c530ed94",
   "metadata": {
    "tags": []
   },
   "source": [
    "# **Setups**"
   ]
  },
  {
   "cell_type": "markdown",
   "id": "aa947360-2ad6-468c-ae84-9b43176d574c",
   "metadata": {
    "tags": []
   },
   "source": [
    "## Library"
   ]
  },
  {
   "cell_type": "code",
   "execution_count": null,
   "id": "e62ba3c7-6df7-4bbb-8c7f-ba6c4728d5fa",
   "metadata": {
    "tags": []
   },
   "outputs": [],
   "source": [
    "import numpy as np\n",
    "import pandas as pd\n",
    "import matplotlib.pyplot as plt\n",
    "from scipy.integrate import solve_ivp\n"
   ]
  },
  {
   "cell_type": "markdown",
   "id": "5d71b1b3-fa74-4129-9112-288a9c8da5e9",
   "metadata": {},
   "source": [
    "## Functions: agglutination model"
   ]
  },
  {
   "cell_type": "code",
   "execution_count": null,
   "id": "171115a4-2957-47aa-babe-713c32dad36f",
   "metadata": {
    "tags": []
   },
   "outputs": [],
   "source": [
    "# Differential equations describing the relationship of components in the immunoagglutination system\n",
    "def Agglutination4_5(t, z, ko1, kd1, ko2, kd2, ko3):\n",
    "    # 4 components\n",
    "    # 5 k parameters\n",
    "    AbAg,Ab2Ag,Ab,Ag = z\n",
    "    return [+ko1*Ab*Ag-kd1*AbAg-ko2*Ab*AbAg+kd2*Ab2Ag-ko3*Ag*AbAg, \n",
    "            +ko2*Ab*AbAg-kd2*Ab2Ag,\n",
    "            -ko1*Ab*Ag+kd1*AbAg-ko2*Ab*AbAg+kd2*Ab2Ag,\n",
    "            -ko1*Ab*Ag+kd1*AbAg-ko3*Ag*AbAg]\n",
    "\n",
    "\n",
    "# Normalized agglutination versus antigen using two initial particle concentrations\n",
    "def Agglu_2AbpConc(Args, \n",
    "                   AbConcs=[1,10], \n",
    "                   AgConcs=np.arange(0,40,step=1),\n",
    "                   Timepoint=1,\n",
    "                   TimeSpan=3,\n",
    "                   dpi=100):\n",
    "    \n",
    "    Lins=200\n",
    "    Tindex=int(Lins/TimeSpan*Timepoint)\n",
    "\n",
    "    #Figure: two particle concentrations\n",
    "    plt.figure(figsize=[4.5,3],dpi=dpi,layout=\"tight\")\n",
    "    plt.style.use('default')\n",
    "    i=0\n",
    "    Agglutination=[]\n",
    "    for AgConc in AgConcs:\n",
    "        sol = solve_ivp(Agglutination4_5, [0,TimeSpan], [0,0,AbConcs[i],AgConc], args=Args,\n",
    "                    dense_output=True)\n",
    "        t = np.linspace(0, TimeSpan, Lins)\n",
    "        z = sol.sol(t)\n",
    "        #Agglutination.append((z.T[Tindex][1]+z.T[Tindex][0])/AbConcs[i])\n",
    "        Agglutination.append((z.T[Tindex][1])/AbConcs[i])\n",
    "        #print(AgConc)\n",
    "    plt.plot(AgConcs, Agglutination,linewidth=2)\n",
    "    plt.ylim(0,max(Agglutination)+0.2)\n",
    "\n",
    "    #plot the K parameters \n",
    "    FitParams = (r'$k_{on,1}$ = '+f'{Args[0]:5.2f}\\n'\n",
    "                 r'$k_{off,1}$ = '+f'{Args[1]:5.2f}\\n'\n",
    "                 r'$k_{on,2}$ = '+f'{Args[2]:5.2f}\\n'\n",
    "                 r'$k_{off,2}$ = '+f'{Args[3]:5.2f}\\n'\n",
    "                 r'$k_{on,3}$ = '+f'{Args[4]:5.2f}')\n",
    "    bbox = dict(boxstyle='round', fc='#F1FDED', ec='#2ca02c')\n",
    "    plt.text(max(AgConcs), max(Agglutination)+0.17, FitParams, fontsize='small', bbox=bbox, \n",
    "             ha='right', va=\"top\")\n",
    "\n",
    "    i=1\n",
    "    Agglutination=[]\n",
    "    for AgConc in AgConcs:\n",
    "        sol = solve_ivp(Agglutination4_5, [0,TimeSpan], [0,0,AbConcs[i],AgConc], args=Args,\n",
    "                    dense_output=True)\n",
    "        t = np.linspace(0, TimeSpan, Lins)\n",
    "        z = sol.sol(t)\n",
    "        #Agglutination.append((z.T[Tindex][1]+z.T[Tindex][0])/AbConcs[i])\n",
    "        Agglutination.append((z.T[Tindex][1])/AbConcs[i])\n",
    "    plt.plot(AgConcs, Agglutination, linewidth=2)\n",
    "    \n",
    "    plt.xlabel('Antigen concentration')\n",
    "    plt.ylabel('Normalized agglutination')\n",
    "    plt.legend([str(AbConcs[0]), str(AbConcs[1])], loc=2,\n",
    "               title='Particle conc.\\n(relative value)', \n",
    "               title_fontsize='small',fontsize='small',\n",
    "               framealpha=0)\n",
    "    #plt.title('Agglutination Simulation')\n",
    "\n",
    "    plt.show()\n",
    "    plt.close()"
   ]
  },
  {
   "cell_type": "markdown",
   "id": "f8833cc8-ea55-4b2f-bc1e-c9f5b71143f1",
   "metadata": {
    "tags": []
   },
   "source": [
    "# **K Parameter Search**\n",
    "- 4 components\n",
    "- 5 parameters"
   ]
  },
  {
   "cell_type": "markdown",
   "id": "a3d2b51d-eaa4-4129-a1d6-59ceef425608",
   "metadata": {
    "tags": []
   },
   "source": [
    "## Parameter grid"
   ]
  },
  {
   "cell_type": "code",
   "execution_count": null,
   "id": "4dc9529a-b800-4c9d-89e3-36408793dba6",
   "metadata": {
    "scrolled": true,
    "tags": []
   },
   "outputs": [],
   "source": [
    "# Each appropriate combination of k will give a plot of normalized agglutination \n",
    "# simulated with two antibody-particle concentrations\n",
    "\n",
    "AbConcs=[5,10]\n",
    "AgConcs=np.arange(0,25,step=0.5)\n",
    "\n",
    "\n",
    "# Different grids for parameter search \n",
    "'''\n",
    "Param_Grids={'Kon1': np.arange(4,10,step=2),\n",
    "             'Koff1': np.arange(0.2,1,step=0.4),\n",
    "             'Kon2': np.arange(1,2,step=0.5),\n",
    "             'Koff2': np.arange(0.05,0.2, step=0.05),\n",
    "             'Kon3': np.arange(1,2,step=0.5)}\n",
    "\n",
    "'''\n",
    "Param_Grids={'Kon1': [2, 6, 10],\n",
    "             'Koff1': [0.1, 0.4, 1],\n",
    "             'Kon2': [0.5, 1],\n",
    "             'Koff2': [0.05, 0.5],\n",
    "             'Kon3': [1, 2]}\n",
    "\n",
    "\n",
    "ParamCombine=pd.DataFrame(columns=['Kon1','Koff1','Kon2','Koff2','Kon3'])\n",
    "for Kon1 in Param_Grids['Kon1']:\n",
    "    for Koff1 in Param_Grids['Koff1']:\n",
    "        for Kon2 in Param_Grids['Kon2']:\n",
    "            for Koff2 in Param_Grids['Koff2']:\n",
    "                for Kon3 in Param_Grids['Kon3']:\n",
    "                    if Kon1/Koff1>=Kon2/Koff2 and Kon1>Kon2 and Kon1>Kon3:\n",
    "                        Args = [Kon1, Koff1, Kon2, Koff2, Kon3]\n",
    "                        ParamCombine.loc[len(ParamCombine)] = Args\n",
    "                        Agglu_2AbpConc(Args, \n",
    "                                       AbConcs=AbConcs, \n",
    "                                       AgConcs=AgConcs)\n",
    "\n",
    "# show a table of paramters combination                        \n",
    "display(ParamCombine)"
   ]
  },
  {
   "cell_type": "markdown",
   "id": "63ccb66f-5191-425c-93c5-603cdcf72554",
   "metadata": {
    "tags": []
   },
   "source": [
    "## Figure: normalized agglutination"
   ]
  },
  {
   "cell_type": "code",
   "execution_count": null,
   "id": "9aad574f-4920-4aa6-a83d-114965f38fe6",
   "metadata": {
    "tags": []
   },
   "outputs": [],
   "source": [
    "# With one param combination, plot normalized agglutination and time dynamics figure \n",
    "# High resolution using dpi=600\n",
    "\n",
    "Args=[6, 0.1, 1, 0.05, 2]\n",
    "Agglu_2AbpConc(Args, AbConcs=[5,10], AgConcs=np.arange(0,25,step=0.1),\n",
    "               Timepoint=1,dpi=600)\n",
    "\n",
    "AbConc=10\n",
    "AgConc=10\n",
    "TimeSpan=3\n",
    "Timepoint=1\n",
    "Lins=200\n",
    "Tindex=int(Lins/TimeSpan*Timepoint) #the index of timepoint\n",
    "\n",
    "# Figures showing time-dependent dynamics of components in system\n",
    "plt.style.use('seaborn-v0_8-pastel') #seaborn-v0_8-pastel is the light one\n",
    "plt.figure(figsize=[2.5,2.5],dpi=600,layout=\"tight\")\n",
    "sol = solve_ivp(Agglutination4_5, [0,TimeSpan], [0,0,AbConc,AgConc], args=Args,\n",
    "                dense_output=True)\n",
    "t = np.linspace(0, 3, Lins)\n",
    "z = sol.sol(t)\n",
    "import matplotlib.pyplot as plt\n",
    "plt.plot(t,z.T, linewidth=2, linestyle='-')\n",
    "plt.xlim(0,1)\n",
    "plt.ylim(0,10)\n",
    "plt.xlabel('Time', fontsize='small')\n",
    "plt.ylabel('Relative conc.', fontsize='small')\n",
    "plt.legend(['Abp-Ag', 'Abp2-Ag', 'Abp', 'Ag'],fontsize='small',framealpha=0)\n",
    "#plt.title('Agglutination')\n",
    "plt.show()\n",
    "plt.close()"
   ]
  },
  {
   "cell_type": "markdown",
   "id": "a5ad4b9d-6199-40ee-abb8-678b669f2e0b",
   "metadata": {
    "tags": []
   },
   "source": [
    "## Figure: time-dependent dynamics"
   ]
  },
  {
   "cell_type": "code",
   "execution_count": null,
   "id": "77561788-9fea-409b-8d50-3d5b90e04764",
   "metadata": {
    "tags": []
   },
   "outputs": [],
   "source": [
    "# With selected antibody-particle concentrations and antigen selections,\n",
    "# give example figures showing the time-dependent dynamics of each component in system\n",
    "AbConcs=[5,10]\n",
    "AgConcs=[1, 5, 10]\n",
    "\n",
    "for AbConc in AbConcs:\n",
    "    for AgConc in AgConcs:\n",
    "        # Figures showing components over t\n",
    "        plt.rcParams.update(plt.rcParamsDefault)\n",
    "        plt.style.use('seaborn-v0_8-paper')\n",
    "        plt.figure(figsize=[3,2.5],dpi=600,layout=\"tight\",alpha=0)\n",
    "        \n",
    "        sol = solve_ivp(Agglutination4_5, [0,TimeSpan], [0,0,AbConc,AgConc], args=Args,\n",
    "                        dense_output=True)\n",
    "        t = np.linspace(0, 3, Lins)\n",
    "        z = sol.sol(t)\n",
    "        plt.plot(t,z.T, linewidth=2, linestyle='-')\n",
    "        plt.xlim(0,2)\n",
    "        plt.ylim(0,max(AbConc,AgConc))\n",
    "        plt.xlabel('Time', fontsize='small')\n",
    "        plt.ylabel('Relative conc.', fontsize='small')\n",
    "\n",
    "        plt.legend(['Abp-Ag', 'Abp2-Ag', 'Abp (from '+str(AbConc)+')', 'Ag (from '+str(AgConc)+')'],\n",
    "                   fontsize='small',framealpha=0)\n",
    "        #plt.title('Agglutination')\n",
    "        plt.show()\n",
    "        plt.close()"
   ]
  },
  {
   "cell_type": "markdown",
   "id": "26b498c2-c7d3-4a95-854b-683aba3cf07a",
   "metadata": {},
   "source": [
    "## Save the parameter combination as csv"
   ]
  },
  {
   "cell_type": "code",
   "execution_count": null,
   "id": "b339ae4b-d5c4-435e-b550-307ba310021d",
   "metadata": {
    "tags": []
   },
   "outputs": [],
   "source": [
    "ParamCombine.to_csv('ParamCombine.csv')"
   ]
  }
 ],
 "metadata": {
  "kernelspec": {
   "display_name": "Python 3 (ipykernel)",
   "language": "python",
   "name": "python3"
  },
  "language_info": {
   "codemirror_mode": {
    "name": "ipython",
    "version": 3
   },
   "file_extension": ".py",
   "mimetype": "text/x-python",
   "name": "python",
   "nbconvert_exporter": "python",
   "pygments_lexer": "ipython3",
   "version": "3.10.13"
  },
  "toc-autonumbering": false,
  "toc-showmarkdowntxt": false,
  "toc-showtags": false
 },
 "nbformat": 4,
 "nbformat_minor": 5
}
